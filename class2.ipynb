{
 "cells": [
  {
   "cell_type": "code",
   "execution_count": 2,
   "id": "0171253c-5e47-45f5-811b-0e13325d7304",
   "metadata": {},
   "outputs": [
    {
     "name": "stdin",
     "output_type": "stream",
     "text": [
      "enter the first number 5\n",
      "enter the second number 2\n"
     ]
    },
    {
     "name": "stdout",
     "output_type": "stream",
     "text": [
      "1\n"
     ]
    }
   ],
   "source": [
    "num1 = int(input(\"enter the first number\"))\n",
    "num2 = int(input(\"enter the second number\"))\n",
    "print(num1%num2)"
   ]
  },
  {
   "cell_type": "code",
   "execution_count": 3,
   "id": "159f327b-adc5-40f1-a6e9-7739d2c6ceac",
   "metadata": {},
   "outputs": [],
   "source": [
    "#Operators\n",
    "#arithmetic + ,-,*,/\n",
    "#conditional <,>,<=,>=\n",
    "#logical AND, OR , NOT\n"
   ]
  },
  {
   "cell_type": "code",
   "execution_count": 5,
   "id": "15e01767-1efa-406e-a4aa-654379053257",
   "metadata": {},
   "outputs": [
    {
     "name": "stdin",
     "output_type": "stream",
     "text": [
      "Enter a marks of your exam 80\n"
     ]
    },
    {
     "name": "stdout",
     "output_type": "stream",
     "text": [
      "you got A+\n"
     ]
    }
   ],
   "source": [
    "#conditional statment\n",
    "#if statement:\n",
    "#statement\n",
    "#else\n",
    "    #statement\n",
    "number = int (input(\"Enter a marks of your exam\"))\n",
    "if number >= 80:\n",
    "    print(\"you got A+\")\n",
    "else:\n",
    "    print(\"Fail\")"
   ]
  },
  {
   "cell_type": "code",
   "execution_count": 9,
   "id": "bcb24f1d-9b48-4ce2-a151-c1600452a02c",
   "metadata": {},
   "outputs": [
    {
     "name": "stdin",
     "output_type": "stream",
     "text": [
      "Enter the age 22\n"
     ]
    },
    {
     "name": "stdout",
     "output_type": "stream",
     "text": [
      "junior\n"
     ]
    }
   ],
   "source": [
    "#conditional Statment\n",
    "#if statement\n",
    "#else\n",
    "    #statement\n",
    "age = int(input(\"Enter the age\"))\n",
    "if age > 35:\n",
    "        print(\"senior\")\n",
    "else:\n",
    "    print(\"junior\")\n"
   ]
  },
  {
   "cell_type": "code",
   "execution_count": 1,
   "id": "9ab6871c-0a7c-4da3-9b1e-79a8a0b60117",
   "metadata": {},
   "outputs": [
    {
     "name": "stdout",
     "output_type": "stream",
     "text": [
      "1\n",
      "3\n",
      "5\n"
     ]
    }
   ],
   "source": [
    "\n",
    "for i in range(1,6,2):\n",
    "    print(i)\n"
   ]
  },
  {
   "cell_type": "code",
   "execution_count": 4,
   "id": "5a5fb665-de37-45b1-8689-0702ccc659eb",
   "metadata": {},
   "outputs": [
    {
     "name": "stdout",
     "output_type": "stream",
     "text": [
      "0\n",
      "5\n"
     ]
    }
   ],
   "source": [
    "#loop\n",
    "for i in range(0,10,5):\n",
    "    print(i)\n",
    "\n",
    "    "
   ]
  },
  {
   "cell_type": "code",
   "execution_count": 1,
   "id": "db3b29b8-404b-4ae6-abe9-875068f61ffc",
   "metadata": {},
   "outputs": [
    {
     "name": "stdout",
     "output_type": "stream",
     "text": [
      "5050\n"
     ]
    }
   ],
   "source": [
    "sum = 0\n",
    "for i in range (1, 101):\n",
    "    sum = sum + i\n",
    "print(sum)   \n",
    "    "
   ]
  },
  {
   "cell_type": "code",
   "execution_count": 6,
   "id": "e5de807d-8c1a-42fd-b8c5-6e9374d93fce",
   "metadata": {},
   "outputs": [
    {
     "name": "stdout",
     "output_type": "stream",
     "text": [
      "2500\n"
     ]
    }
   ],
   "source": [
    "sum = 0\n",
    "for i in range(1,101,2):\n",
    "    sum= sum + i\n",
    "print(sum)"
   ]
  },
  {
   "cell_type": "code",
   "execution_count": 7,
   "id": "61b0fa06-cba8-4721-9f59-ab8677de03a0",
   "metadata": {},
   "outputs": [
    {
     "name": "stdout",
     "output_type": "stream",
     "text": [
      "2500\n"
     ]
    }
   ],
   "source": [
    "sum = 0\n",
    "for i in range(1,101,2):\n",
    "    sum += i\n",
    "print(sum)"
   ]
  },
  {
   "cell_type": "code",
   "execution_count": 9,
   "id": "734fb436-c346-41ea-ba2f-c3eeafaa3a70",
   "metadata": {},
   "outputs": [
    {
     "name": "stdout",
     "output_type": "stream",
     "text": [
      "2550\n"
     ]
    }
   ],
   "source": [
    "sum = 0\n",
    "for i in range(0,101,2):\n",
    "    sum += i\n",
    "print(sum)"
   ]
  },
  {
   "cell_type": "code",
   "execution_count": 21,
   "id": "137e0b34-eff0-4721-95b0-fd767371bbe3",
   "metadata": {},
   "outputs": [
    {
     "name": "stdout",
     "output_type": "stream",
     "text": [
      "10100\n"
     ]
    }
   ],
   "source": [
    "sum3 = 0\n",
    "for i in range(0,201,2):\n",
    "    sum3 += i\n",
    "print(sum3)"
   ]
  },
  {
   "cell_type": "code",
   "execution_count": 20,
   "id": "34aa6200-59d5-40c2-a34c-02fef6e39f42",
   "metadata": {},
   "outputs": [
    {
     "name": "stdout",
     "output_type": "stream",
     "text": [
      "2550\n"
     ]
    }
   ],
   "source": [
    "sum4 = 0\n",
    "for i in range(1, 101):\n",
    "    if(i%2 == 1):\n",
    "        continue\n",
    "    else:\n",
    "        sum4 += i\n",
    "print(sum4)"
   ]
  },
  {
   "cell_type": "code",
   "execution_count": 1,
   "id": "3a4c00fe-03cb-46ef-b5a4-4a81e77069e0",
   "metadata": {},
   "outputs": [
    {
     "name": "stdout",
     "output_type": "stream",
     "text": [
      "5050\n"
     ]
    }
   ],
   "source": [
    "#while loop\n",
    "#while condition:\n",
    "#statement\n",
    "sum5 = 0\n",
    "i = 1\n",
    "while i < 101:\n",
    "    sum5 += i\n",
    "    i = i + 1\n",
    "print(sum5)"
   ]
  },
  {
   "cell_type": "code",
   "execution_count": 24,
   "id": "e3c26aa2-29bc-484b-ad5e-c4f09cb27b01",
   "metadata": {},
   "outputs": [
    {
     "name": "stdout",
     "output_type": "stream",
     "text": [
      "4100\n"
     ]
    }
   ],
   "source": [
    "sum = 0\n",
    "for i in range(0,201,5):\n",
    "    sum+=i\n",
    "print(sum)\n"
   ]
  },
  {
   "cell_type": "code",
   "execution_count": 13,
   "id": "2e809053-eacd-490c-af44-ffcc67ce02e6",
   "metadata": {},
   "outputs": [
    {
     "name": "stdout",
     "output_type": "stream",
     "text": [
      "45150\n"
     ]
    }
   ],
   "source": [
    "sum = 0\n",
    "for i in range(1,301):\n",
    "    sum = sum + i\n",
    "print(sum)"
   ]
  },
  {
   "cell_type": "code",
   "execution_count": 18,
   "id": "48278de5-1655-4748-a656-daa7568d512a",
   "metadata": {},
   "outputs": [
    {
     "name": "stdout",
     "output_type": "stream",
     "text": [
      "22500\n"
     ]
    }
   ],
   "source": [
    "sum = 0 \n",
    "for i in range(1,301,2):\n",
    "    sum += i\n",
    "print(sum)\n",
    "    "
   ]
  },
  {
   "cell_type": "code",
   "execution_count": null,
   "id": "54e2d71d-d660-4caa-9ea6-85265d3d8981",
   "metadata": {},
   "outputs": [],
   "source": [
    "sum = 0\n",
    "i = 1\n",
    "while i<101:\n",
    "    sum = sum + i\n",
    "    i = i + 2\n",
    "print(sum)"
   ]
  },
  {
   "cell_type": "code",
   "execution_count": null,
   "id": "1eaac84d-4f1b-4102-9ca3-f44243415c05",
   "metadata": {},
   "outputs": [],
   "source": []
  },
  {
   "cell_type": "code",
   "execution_count": null,
   "id": "234eedb4-f282-48a9-8c51-36914fd97862",
   "metadata": {},
   "outputs": [],
   "source": []
  },
  {
   "cell_type": "code",
   "execution_count": null,
   "id": "63bee202-fb1b-4c5d-96cf-b90be60a5770",
   "metadata": {},
   "outputs": [],
   "source": []
  }
 ],
 "metadata": {
  "kernelspec": {
   "display_name": "Python 3 (ipykernel)",
   "language": "python",
   "name": "python3"
  },
  "language_info": {
   "codemirror_mode": {
    "name": "ipython",
    "version": 3
   },
   "file_extension": ".py",
   "mimetype": "text/x-python",
   "name": "python",
   "nbconvert_exporter": "python",
   "pygments_lexer": "ipython3",
   "version": "3.11.7"
  }
 },
 "nbformat": 4,
 "nbformat_minor": 5
}
